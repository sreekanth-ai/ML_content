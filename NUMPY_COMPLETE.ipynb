{
  "nbformat": 4,
  "nbformat_minor": 0,
  "metadata": {
    "colab": {
      "provenance": [],
      "authorship_tag": "ABX9TyMBLxKxqVqjd0FFn1j+Da2O",
      "include_colab_link": true
    },
    "kernelspec": {
      "name": "python3",
      "display_name": "Python 3"
    },
    "language_info": {
      "name": "python"
    }
  },
  "cells": [
    {
      "cell_type": "markdown",
      "metadata": {
        "id": "view-in-github",
        "colab_type": "text"
      },
      "source": [
        "<a href=\"https://colab.research.google.com/github/sreekanth-ai/ML_content/blob/main/NUMPY_COMPLETE.ipynb\" target=\"_parent\"><img src=\"https://colab.research.google.com/assets/colab-badge.svg\" alt=\"Open In Colab\"/></a>"
      ]
    },
    {
      "cell_type": "markdown",
      "source": [
        "NUMPY = Numerical Python\n",
        "\n",
        "Advantages of numpy array:\n",
        "\n",
        "1.Allows several Mathematical operations.\n",
        "\n",
        "2.Faster operations."
      ],
      "metadata": {
        "id": "b44p_IM4eOto"
      }
    },
    {
      "cell_type": "code",
      "execution_count": null,
      "metadata": {
        "id": "KtJfPMFnb0_G"
      },
      "outputs": [],
      "source": [
        "import numpy as np"
      ]
    },
    {
      "cell_type": "markdown",
      "source": [
        "list vs numpy - time taken to run the program."
      ],
      "metadata": {
        "id": "xd1SrXhhfU03"
      }
    },
    {
      "cell_type": "code",
      "source": [
        "from time import process_time"
      ],
      "metadata": {
        "id": "YydBFtDNgdsd"
      },
      "execution_count": null,
      "outputs": []
    },
    {
      "cell_type": "code",
      "source": [
        "my_list = [i for i in range(10000)]\n",
        "\n",
        "start_time = process_time()\n",
        "\n",
        "my_list = [i+5 for i in my_list]\n",
        "\n",
        "end_time = process_time()\n",
        "\n",
        "print(end_time - start_time)\n"
      ],
      "metadata": {
        "colab": {
          "base_uri": "https://localhost:8080/"
        },
        "id": "EyFBISbzfPnc",
        "outputId": "371d2074-13e9-4d4f-d837-d12de89f4dec"
      },
      "execution_count": null,
      "outputs": [
        {
          "output_type": "stream",
          "name": "stdout",
          "text": [
            "0.001324592999999874\n"
          ]
        }
      ]
    },
    {
      "cell_type": "markdown",
      "source": [
        "Using numpy"
      ],
      "metadata": {
        "id": "s1U5CQmgglWM"
      }
    },
    {
      "cell_type": "code",
      "source": [
        "np_array = np.array([i for i in range(10000)])\n",
        "start_time = process_time()\n",
        "np_array += 5\n",
        "\n",
        "end_time = process_time()\n",
        "\n",
        "print(end_time - start_time)"
      ],
      "metadata": {
        "colab": {
          "base_uri": "https://localhost:8080/"
        },
        "id": "zesJl_lvgW4d",
        "outputId": "ddcad8cd-edba-4a19-dc9c-1d714ef2ca53"
      },
      "execution_count": null,
      "outputs": [
        {
          "output_type": "stream",
          "name": "stdout",
          "text": [
            "0.0011577380000000748\n"
          ]
        }
      ]
    },
    {
      "cell_type": "markdown",
      "source": [
        "NUMPY array"
      ],
      "metadata": {
        "id": "VPot7l-ohnA9"
      }
    },
    {
      "cell_type": "code",
      "source": [
        "list1 = np.array([1,3,5,6])\n",
        "print(list1)\n",
        "type(list1)"
      ],
      "metadata": {
        "colab": {
          "base_uri": "https://localhost:8080/"
        },
        "id": "OzHOiAcXg5ep",
        "outputId": "1fa454d6-4f93-45da-9236-5550489d1463"
      },
      "execution_count": null,
      "outputs": [
        {
          "output_type": "stream",
          "name": "stdout",
          "text": [
            "[1 3 5 6]\n"
          ]
        },
        {
          "output_type": "execute_result",
          "data": {
            "text/plain": [
              "numpy.ndarray"
            ]
          },
          "metadata": {},
          "execution_count": 5
        }
      ]
    },
    {
      "cell_type": "code",
      "source": [
        "a = np.array([(1,5,67,7),(1,4,5,5)])\n",
        "print(a)"
      ],
      "metadata": {
        "colab": {
          "base_uri": "https://localhost:8080/"
        },
        "id": "5xOeLw2wh3u1",
        "outputId": "c3bde64d-311a-4c64-b304-dcfed66f8354"
      },
      "execution_count": null,
      "outputs": [
        {
          "output_type": "stream",
          "name": "stdout",
          "text": [
            "[[ 1  5 67  7]\n",
            " [ 1  4  5  5]]\n"
          ]
        }
      ]
    },
    {
      "cell_type": "code",
      "source": [
        "a.shape"
      ],
      "metadata": {
        "colab": {
          "base_uri": "https://localhost:8080/"
        },
        "id": "bPOxg5xSiJHv",
        "outputId": "235e00d9-fd2d-4ee7-f80a-94b94485d1f7"
      },
      "execution_count": null,
      "outputs": [
        {
          "output_type": "execute_result",
          "data": {
            "text/plain": [
              "(2, 4)"
            ]
          },
          "metadata": {},
          "execution_count": 7
        }
      ]
    },
    {
      "cell_type": "code",
      "source": [
        "a.size"
      ],
      "metadata": {
        "colab": {
          "base_uri": "https://localhost:8080/"
        },
        "id": "a7I5YUOOiMgJ",
        "outputId": "64f999b9-83bc-45f0-d06e-255ae655210a"
      },
      "execution_count": null,
      "outputs": [
        {
          "output_type": "execute_result",
          "data": {
            "text/plain": [
              "8"
            ]
          },
          "metadata": {},
          "execution_count": 8
        }
      ]
    },
    {
      "cell_type": "code",
      "source": [
        "c = np.array([(1,2.7,3),(4,5,6)],dtype=float)\n",
        "print(c)"
      ],
      "metadata": {
        "colab": {
          "base_uri": "https://localhost:8080/"
        },
        "id": "fFMn4ZHBiSMQ",
        "outputId": "c160a1bc-3ed1-4f6f-bd02-e0506de957d8"
      },
      "execution_count": null,
      "outputs": [
        {
          "output_type": "stream",
          "name": "stdout",
          "text": [
            "[[1.  2.7 3. ]\n",
            " [4.  5.  6. ]]\n"
          ]
        }
      ]
    },
    {
      "cell_type": "code",
      "source": [
        "y = np.zeros((4,5))\n",
        "print(y)"
      ],
      "metadata": {
        "colab": {
          "base_uri": "https://localhost:8080/"
        },
        "id": "z9dHx1Eoi9Ow",
        "outputId": "1d402684-d149-4af2-bb71-be939c2fcd0a"
      },
      "execution_count": null,
      "outputs": [
        {
          "output_type": "stream",
          "name": "stdout",
          "text": [
            "[[0. 0. 0. 0. 0.]\n",
            " [0. 0. 0. 0. 0.]\n",
            " [0. 0. 0. 0. 0.]\n",
            " [0. 0. 0. 0. 0.]]\n"
          ]
        }
      ]
    },
    {
      "cell_type": "code",
      "source": [
        "x = np.full((4,4),9)\n",
        "print(x)"
      ],
      "metadata": {
        "colab": {
          "base_uri": "https://localhost:8080/"
        },
        "id": "4h_vTKRxjaPS",
        "outputId": "3f085e73-446d-469a-d39b-6ca02b692521"
      },
      "execution_count": null,
      "outputs": [
        {
          "output_type": "stream",
          "name": "stdout",
          "text": [
            "[[9 9 9 9]\n",
            " [9 9 9 9]\n",
            " [9 9 9 9]\n",
            " [9 9 9 9]]\n"
          ]
        }
      ]
    },
    {
      "cell_type": "code",
      "source": [
        "a = np.ones((4,3),dtype=int)\n",
        "print(a)"
      ],
      "metadata": {
        "colab": {
          "base_uri": "https://localhost:8080/"
        },
        "id": "TnMBW5NojyJU",
        "outputId": "04b97a8d-2c58-44df-8a13-49c99ad52245"
      },
      "execution_count": null,
      "outputs": [
        {
          "output_type": "stream",
          "name": "stdout",
          "text": [
            "[[1 1 1]\n",
            " [1 1 1]\n",
            " [1 1 1]\n",
            " [1 1 1]]\n"
          ]
        }
      ]
    },
    {
      "cell_type": "code",
      "source": [
        "a = np.eye((4),dtype=int)\n",
        "print(a)"
      ],
      "metadata": {
        "colab": {
          "base_uri": "https://localhost:8080/"
        },
        "id": "lKwagkFZkJgJ",
        "outputId": "dae9aaf8-01f7-4ad2-b9a4-e3c2daf4f9b1"
      },
      "execution_count": null,
      "outputs": [
        {
          "output_type": "stream",
          "name": "stdout",
          "text": [
            "[[1 0 0 0]\n",
            " [0 1 0 0]\n",
            " [0 0 1 0]\n",
            " [0 0 0 1]]\n"
          ]
        }
      ]
    },
    {
      "cell_type": "code",
      "source": [
        "a = np.random.randint(10,100,(3,4))\n",
        "print(a)"
      ],
      "metadata": {
        "colab": {
          "base_uri": "https://localhost:8080/"
        },
        "id": "zF-GkuvakgBE",
        "outputId": "ee5973ba-a7c4-4f78-8a39-1a74a544eeef"
      },
      "execution_count": null,
      "outputs": [
        {
          "output_type": "stream",
          "name": "stdout",
          "text": [
            "[[22 62 52 22]\n",
            " [23 80 90 38]\n",
            " [89 61 43 44]]\n"
          ]
        }
      ]
    },
    {
      "cell_type": "code",
      "source": [
        "a = np.random.random((3,4))\n",
        "print(a)"
      ],
      "metadata": {
        "colab": {
          "base_uri": "https://localhost:8080/"
        },
        "id": "blWDKr3nkt5R",
        "outputId": "6a8e4776-21c1-4682-d59b-bd8c7c880252"
      },
      "execution_count": null,
      "outputs": [
        {
          "output_type": "stream",
          "name": "stdout",
          "text": [
            "[[0.39025176 0.85050648 0.79536486 0.49234787]\n",
            " [0.18678925 0.68351929 0.04237403 0.26246955]\n",
            " [0.20512679 0.03735318 0.20733934 0.44921874]]\n"
          ]
        }
      ]
    },
    {
      "cell_type": "markdown",
      "source": [
        "arr of evenly spaced value -> specifing num of values"
      ],
      "metadata": {
        "id": "J1Hn7CBEmToa"
      }
    },
    {
      "cell_type": "code",
      "source": [
        "a = np.linspace(10,30,6)\n",
        "print(a)"
      ],
      "metadata": {
        "colab": {
          "base_uri": "https://localhost:8080/"
        },
        "id": "-j_acHCClY3a",
        "outputId": "d78f32b4-7599-4d07-c707-72a1e1adfa76"
      },
      "execution_count": null,
      "outputs": [
        {
          "output_type": "stream",
          "name": "stdout",
          "text": [
            "[10. 14. 18. 22. 26. 30.]\n"
          ]
        }
      ]
    },
    {
      "cell_type": "code",
      "source": [
        "a = np.arange(10,30,6)\n",
        "print(a)"
      ],
      "metadata": {
        "colab": {
          "base_uri": "https://localhost:8080/"
        },
        "id": "ra9WkdcOmJmW",
        "outputId": "0b4f59cf-40c8-4639-ba7e-c629ee9dfc00"
      },
      "execution_count": null,
      "outputs": [
        {
          "output_type": "stream",
          "name": "stdout",
          "text": [
            "[10 16 22 28]\n"
          ]
        }
      ]
    },
    {
      "cell_type": "markdown",
      "source": [
        "converting the list into numpy"
      ],
      "metadata": {
        "id": "mgQlu1fMndEt"
      }
    },
    {
      "cell_type": "code",
      "source": [
        "list1 = [1,3,4,5,6,7]\n",
        "type(list1)\n",
        "np_arr = np.asarray(list1)\n",
        "print(np_arr)\n",
        "print(list1)\n",
        "type(np_arr)"
      ],
      "metadata": {
        "colab": {
          "base_uri": "https://localhost:8080/"
        },
        "id": "ikzw3u2fmn1l",
        "outputId": "7bf047f6-6f5a-4536-fc0c-f09e268c58cc"
      },
      "execution_count": null,
      "outputs": [
        {
          "output_type": "stream",
          "name": "stdout",
          "text": [
            "[1 3 4 5 6 7]\n",
            "[1, 3, 4, 5, 6, 7]\n"
          ]
        },
        {
          "output_type": "execute_result",
          "data": {
            "text/plain": [
              "numpy.ndarray"
            ]
          },
          "metadata": {},
          "execution_count": 18
        }
      ]
    },
    {
      "cell_type": "code",
      "source": [
        "c = np.random.randint(10,100,(5,7))\n",
        "print(c)"
      ],
      "metadata": {
        "colab": {
          "base_uri": "https://localhost:8080/"
        },
        "id": "m86ohhmenIGl",
        "outputId": "2297a043-587a-49c2-e97e-202ad8ca8bc4"
      },
      "execution_count": null,
      "outputs": [
        {
          "output_type": "stream",
          "name": "stdout",
          "text": [
            "[[14 48 98 26 65 94 48]\n",
            " [33 72 78 52 18 35 42]\n",
            " [40 69 77 23 53 50 84]\n",
            " [73 39 60 56 75 94 28]\n",
            " [81 95 60 50 65 81 65]]\n"
          ]
        }
      ]
    },
    {
      "cell_type": "code",
      "source": [
        "print(c.shape)"
      ],
      "metadata": {
        "colab": {
          "base_uri": "https://localhost:8080/"
        },
        "id": "TcmExit-oK5B",
        "outputId": "36b8ed75-f887-4187-d4b3-a505a8a757a2"
      },
      "execution_count": null,
      "outputs": [
        {
          "output_type": "stream",
          "name": "stdout",
          "text": [
            "(5, 7)\n"
          ]
        }
      ]
    },
    {
      "cell_type": "code",
      "source": [
        "c.size"
      ],
      "metadata": {
        "colab": {
          "base_uri": "https://localhost:8080/"
        },
        "id": "FQ65h4FWoM88",
        "outputId": "44a0827e-efb6-4690-fd76-01a0aa743006"
      },
      "execution_count": null,
      "outputs": [
        {
          "output_type": "execute_result",
          "data": {
            "text/plain": [
              "35"
            ]
          },
          "metadata": {},
          "execution_count": 21
        }
      ]
    },
    {
      "cell_type": "code",
      "source": [
        "c.ndim"
      ],
      "metadata": {
        "colab": {
          "base_uri": "https://localhost:8080/"
        },
        "id": "SnQo-Q9aoOzh",
        "outputId": "06e54cc6-c24c-477b-fdfe-24bfd23bb732"
      },
      "execution_count": null,
      "outputs": [
        {
          "output_type": "execute_result",
          "data": {
            "text/plain": [
              "2"
            ]
          },
          "metadata": {},
          "execution_count": 22
        }
      ]
    },
    {
      "cell_type": "code",
      "source": [
        "print(c.dtype)"
      ],
      "metadata": {
        "colab": {
          "base_uri": "https://localhost:8080/"
        },
        "id": "GGkFwglvoWE3",
        "outputId": "fd0322b1-cd31-4089-bbfb-a1d33540102c"
      },
      "execution_count": null,
      "outputs": [
        {
          "output_type": "stream",
          "name": "stdout",
          "text": [
            "int64\n"
          ]
        }
      ]
    },
    {
      "cell_type": "markdown",
      "source": [
        "ADDING or concatination of two lists"
      ],
      "metadata": {
        "id": "ZLDOMDyqot-P"
      }
    },
    {
      "cell_type": "code",
      "source": [
        "list1 = [1,2,3,4]\n",
        "list2 = [5,6,7,8]\n",
        "print(list1 + list2)"
      ],
      "metadata": {
        "colab": {
          "base_uri": "https://localhost:8080/"
        },
        "id": "tf2WFK9Pod3P",
        "outputId": "1ff2bec4-aaa4-4e6f-9a24-8c3a3bc161da"
      },
      "execution_count": null,
      "outputs": [
        {
          "output_type": "stream",
          "name": "stdout",
          "text": [
            "[1, 2, 3, 4, 5, 6, 7, 8]\n"
          ]
        }
      ]
    },
    {
      "cell_type": "markdown",
      "source": [
        "ARThimatic operation sum of two arrays in numpy"
      ],
      "metadata": {
        "id": "CWdlBjROpBym"
      }
    },
    {
      "cell_type": "code",
      "source": [
        "a = np.random.randint(100,1000,(3,4))\n",
        "c = np.random.randint(10,100,(3,4))\n",
        "print(a)\n",
        "print(c)\n",
        "print(a+c)\n",
        "# or print(np.add(a,c))"
      ],
      "metadata": {
        "colab": {
          "base_uri": "https://localhost:8080/"
        },
        "id": "KLBIVrnco7d8",
        "outputId": "02fa0cf1-56ad-4b3e-d7a1-e2c0301eee8d"
      },
      "execution_count": null,
      "outputs": [
        {
          "output_type": "stream",
          "name": "stdout",
          "text": [
            "[[284 312 629 912]\n",
            " [161 896 954 573]\n",
            " [286 349 894 919]]\n",
            "[[61 36 28 22]\n",
            " [76 53 42 92]\n",
            " [91 76 65 34]]\n",
            "[[345 348 657 934]\n",
            " [237 949 996 665]\n",
            " [377 425 959 953]]\n"
          ]
        }
      ]
    },
    {
      "cell_type": "markdown",
      "source": [
        "ARRAY MANUPULATION"
      ],
      "metadata": {
        "id": "rxKPBXAurwhY"
      }
    },
    {
      "cell_type": "code",
      "source": [
        "a = np.random.randint(1,10,(3,4))\n",
        "print(a)\n",
        "print(a.shape)\n",
        "print(\" \")\n",
        "trans = np.transpose(a)\n",
        "print(trans)\n",
        "print(trans.shape)"
      ],
      "metadata": {
        "colab": {
          "base_uri": "https://localhost:8080/"
        },
        "id": "XyGIzcfopxSE",
        "outputId": "bd724ca2-2301-4027-ce15-1a4ee78aa873"
      },
      "execution_count": null,
      "outputs": [
        {
          "output_type": "stream",
          "name": "stdout",
          "text": [
            "[[6 8 9 1]\n",
            " [9 5 1 5]\n",
            " [5 4 7 4]]\n",
            "(3, 4)\n",
            " \n",
            "[[6 9 5]\n",
            " [8 5 4]\n",
            " [9 1 7]\n",
            " [1 5 4]]\n",
            "(4, 3)\n"
          ]
        }
      ]
    },
    {
      "cell_type": "code",
      "source": [
        "tr = a.T\n",
        "print(tr)\n",
        "print(tr.shape)"
      ],
      "metadata": {
        "colab": {
          "base_uri": "https://localhost:8080/"
        },
        "id": "_ji33_A0rRbi",
        "outputId": "0b1d387f-5a92-48e2-9f70-d2661d7e1fda"
      },
      "execution_count": null,
      "outputs": [
        {
          "output_type": "stream",
          "name": "stdout",
          "text": [
            "[[6 9 5]\n",
            " [8 5 4]\n",
            " [9 1 7]\n",
            " [1 5 4]]\n",
            "(4, 3)\n"
          ]
        }
      ]
    },
    {
      "cell_type": "markdown",
      "source": [
        "ARRAY RESHAPING"
      ],
      "metadata": {
        "id": "P9bu1WPLr00U"
      }
    },
    {
      "cell_type": "code",
      "source": [
        "c = np.random.randint(10,100,(4,3))\n",
        "print(c)\n",
        "print(c.shape)\n",
        "print(\"\")\n",
        "b = c.reshape(2,6)\n",
        "print(b)\n",
        "print(b.shape)"
      ],
      "metadata": {
        "colab": {
          "base_uri": "https://localhost:8080/"
        },
        "id": "Nz1dhnZyrpWz",
        "outputId": "73d09a1f-864b-4e6c-8c32-162b7e574dfe"
      },
      "execution_count": null,
      "outputs": [
        {
          "output_type": "stream",
          "name": "stdout",
          "text": [
            "[[45 94 79]\n",
            " [85 72 34]\n",
            " [95 39 91]\n",
            " [43 57 15]]\n",
            "(4, 3)\n",
            "\n",
            "[[45 94 79 85 72 34]\n",
            " [95 39 91 43 57 15]]\n",
            "(2, 6)\n"
          ]
        }
      ]
    },
    {
      "cell_type": "code",
      "source": [
        "l=[]\n",
        "for i in range(1,5):\n",
        "  x = int(input(\"enter:\"))\n",
        "  l.append(x)\n",
        "print(l)\n",
        "print(np.asarray(l))"
      ],
      "metadata": {
        "id": "9W_4GGIEsGg7",
        "colab": {
          "base_uri": "https://localhost:8080/"
        },
        "outputId": "94b76c0f-80df-4c7c-978d-0ec1758f6d5a"
      },
      "execution_count": null,
      "outputs": [
        {
          "output_type": "stream",
          "name": "stdout",
          "text": [
            "enter:12\n",
            "enter:23\n",
            "enter:45\n",
            "enter:7\n",
            "[12, 23, 45, 7]\n",
            "[12 23 45  7]\n"
          ]
        }
      ]
    },
    {
      "cell_type": "code",
      "source": [
        "x = np.array([1,2,3,4],ndmin = 2)\n",
        "print(x)"
      ],
      "metadata": {
        "colab": {
          "base_uri": "https://localhost:8080/"
        },
        "id": "QN1LlnX211Je",
        "outputId": "3a837de0-4038-4662-8027-ef2daea96d1f"
      },
      "execution_count": null,
      "outputs": [
        {
          "output_type": "stream",
          "name": "stdout",
          "text": [
            "[[1 2 3 4]]\n"
          ]
        }
      ]
    },
    {
      "cell_type": "code",
      "source": [
        "x = np.empty((2,3))\n",
        "print(x)"
      ],
      "metadata": {
        "colab": {
          "base_uri": "https://localhost:8080/"
        },
        "id": "WOxMmpqy3IDa",
        "outputId": "c73abaac-5b82-48cf-993a-25cbaac354d4"
      },
      "execution_count": null,
      "outputs": [
        {
          "output_type": "stream",
          "name": "stdout",
          "text": [
            "[[1.  2.7 3. ]\n",
            " [4.  5.  6. ]]\n"
          ]
        }
      ]
    },
    {
      "cell_type": "code",
      "source": [
        "x = np.random.ranf(5)\n",
        "print(x)"
      ],
      "metadata": {
        "colab": {
          "base_uri": "https://localhost:8080/"
        },
        "id": "zSVuMk774qmN",
        "outputId": "1e7b2867-9ff1-413c-9326-a9e2341f148a"
      },
      "execution_count": null,
      "outputs": [
        {
          "output_type": "stream",
          "name": "stdout",
          "text": [
            "[0.73139009 0.28036868 0.33919969 0.90865788 0.12553331]\n"
          ]
        }
      ]
    },
    {
      "cell_type": "code",
      "source": [
        "x = np.random.randn(5)\n",
        "print(x)"
      ],
      "metadata": {
        "colab": {
          "base_uri": "https://localhost:8080/"
        },
        "id": "vCnhmGoe62qT",
        "outputId": "20e4edd2-6f09-43d7-e09b-0336c94d3716"
      },
      "execution_count": null,
      "outputs": [
        {
          "output_type": "stream",
          "name": "stdout",
          "text": [
            "[-0.47755842 -0.98932831  2.15897618 -0.17498787 -0.19547814]\n"
          ]
        }
      ]
    },
    {
      "cell_type": "code",
      "source": [
        "x = np.array([1,2,3])\n",
        "y = np.float32(x)\n",
        "print(y)"
      ],
      "metadata": {
        "colab": {
          "base_uri": "https://localhost:8080/"
        },
        "id": "DdXsvUc97qIx",
        "outputId": "13235485-a425-4329-ba7d-5972976cd8f9"
      },
      "execution_count": null,
      "outputs": [
        {
          "output_type": "stream",
          "name": "stdout",
          "text": [
            "[1. 2. 3.]\n"
          ]
        }
      ]
    },
    {
      "cell_type": "code",
      "source": [
        "z = np.reciprocal(x,dtype=\"f\")\n",
        "print(z)"
      ],
      "metadata": {
        "colab": {
          "base_uri": "https://localhost:8080/"
        },
        "id": "nUsk9Ae49Kw4",
        "outputId": "22c00416-56c6-4510-a466-f02acf91dce9"
      },
      "execution_count": null,
      "outputs": [
        {
          "output_type": "stream",
          "name": "stdout",
          "text": [
            "[1.         0.5        0.33333334]\n"
          ]
        }
      ]
    },
    {
      "cell_type": "code",
      "source": [],
      "metadata": {
        "id": "SUTDL_Rm-1As"
      },
      "execution_count": null,
      "outputs": []
    }
  ]
}